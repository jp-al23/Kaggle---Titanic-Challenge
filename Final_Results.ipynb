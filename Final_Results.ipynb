{
 "cells": [
  {
   "cell_type": "code",
   "execution_count": 11,
   "id": "298f55ae-c242-475b-ae7e-1dc8f2f27f48",
   "metadata": {},
   "outputs": [
    {
     "name": "stdout",
     "output_type": "stream",
     "text": [
      "(418,)\n",
      "(418, 7)\n"
     ]
    }
   ],
   "source": [
    "import pandas as pd\n",
    "import numpy as np\n",
    "import matplotlib.pyplot as plt\n",
    "import seaborn as sns\n",
    "from sklearn.ensemble import RandomForestClassifier\n",
    "\n",
    "\n",
    "X_test = pd.read_csv(\"final_data/df_test_result.csv\").values\n",
    "X_train = pd.read_csv(\"final_data/X_train.csv\").values\n",
    "y_train = pd.read_csv(\"final_data/y_train.csv\").values.ravel()\n",
    "passengerId = pd.read_csv(\"data/test.csv\")[\"PassengerId\"]\n",
    "\n",
    "print(passengerId.shape)\n",
    "print(X_test.shape)\n",
    "\n",
    "model = RandomForestClassifier(min_samples_split= 10, n_estimators= 50)\n",
    "model.fit(X_train, y_train)\n",
    "y_pred = model.predict(X_test)\n",
    "\n",
    "final_df = pd.DataFrame()\n",
    "final_df[\"PassengerId\"] = passengerId\n",
    "final_df[\"Survived\"] = y_pred\n",
    "final_df[\"Survived\"] = final_df[\"Survived\"].astype(int)\n",
    "\n",
    "final_df.to_csv(\"final_data/submission.csv\", index = False)"
   ]
  },
  {
   "cell_type": "code",
   "execution_count": null,
   "id": "6f781533-d785-4041-9edb-66eb8d6b413e",
   "metadata": {},
   "outputs": [],
   "source": []
  }
 ],
 "metadata": {
  "kernelspec": {
   "display_name": "Python 3 (ipykernel)",
   "language": "python",
   "name": "python3"
  },
  "language_info": {
   "codemirror_mode": {
    "name": "ipython",
    "version": 3
   },
   "file_extension": ".py",
   "mimetype": "text/x-python",
   "name": "python",
   "nbconvert_exporter": "python",
   "pygments_lexer": "ipython3",
   "version": "3.11.4"
  }
 },
 "nbformat": 4,
 "nbformat_minor": 5
}
