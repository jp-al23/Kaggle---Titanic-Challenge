{
 "cells": [
  {
   "cell_type": "code",
   "execution_count": 28,
   "metadata": {},
   "outputs": [],
   "source": [
    "import pandas as pd\n",
    "import numpy as np\n",
    "import matplotlib.pyplot as plt\n",
    "import seaborn as sns\n",
    "\n",
    "from sklearn.ensemble import RandomForestClassifier\n",
    "from sklearn.naive_bayes import GaussianNB\n",
    "from sklearn.neighbors import KNeighborsClassifier\n",
    "from sklearn.neural_network import MLPClassifier\n",
    "from sklearn.metrics import (\n",
    "accuracy_score,\n",
    "f1_score,\n",
    "roc_auc_score\n",
    ")\n",
    "\n",
    "models_results = pd.DataFrame()\n",
    "\n",
    "X_train = pd.read_csv(\"final_data/X_train.csv\").values\n",
    "y_train = pd.read_csv(\"final_data/y_train.csv\").values.ravel()\n",
    "X_test = pd.read_csv(\"final_data/X_test.csv\").values\n",
    "y_test = pd.read_csv(\"final_data/y_test.csv\").values.ravel()"
   ]
  },
  {
   "cell_type": "markdown",
   "metadata": {},
   "source": [
    "# Validation dataset"
   ]
  },
  {
   "cell_type": "code",
   "execution_count": 29,
   "metadata": {},
   "outputs": [
    {
     "name": "stdout",
     "output_type": "stream",
     "text": [
      "Train size: 757\n",
      "Validation size: 76\n",
      "Test size: 134\n"
     ]
    }
   ],
   "source": [
    "from sklearn.model_selection import train_test_split\n",
    "from sklearn.model_selection import GridSearchCV, RandomizedSearchCV, KFold\n",
    "_, X_val, _, y_val = train_test_split(X_train, y_train, train_size = 0.9)\n",
    "\n",
    "n_train = X_train.shape[0]\n",
    "n_val = X_val.shape[0]\n",
    "n_test = X_test.shape[0]\n",
    "\n",
    "print(\"Train size: {}\\nValidation size: {}\\nTest size: {}\".format(n_train, n_val, n_test))"
   ]
  },
  {
   "cell_type": "markdown",
   "metadata": {},
   "source": [
    "# Random Forest Classifier"
   ]
  },
  {
   "cell_type": "markdown",
   "metadata": {},
   "source": [
    "## Validation "
   ]
  },
  {
   "cell_type": "code",
   "execution_count": 30,
   "metadata": {},
   "outputs": [
    {
     "name": "stdout",
     "output_type": "stream",
     "text": [
      "Best Hyperparameters:\n",
      "{'max_depth': None, 'min_samples_split': 10, 'n_estimators': 50}\n",
      "Best score:\n",
      "0.75\n"
     ]
    }
   ],
   "source": [
    "param_grid = {\n",
    "    'n_estimators': [50, 100, 150, 200],       # Number of trees in the forest\n",
    "    'max_depth': [None, 10, 20],       # Maximum depth of the tree\n",
    "    'min_samples_split': [2, 5, 10],      # Minimum number of samples required to split an internal node}\n",
    "}\n",
    "model = RandomForestClassifier()\n",
    "kf = KFold(n_splits=4, shuffle=True, random_state=23)\n",
    "grid_search = GridSearchCV(estimator=model, param_grid=param_grid, cv=kf)\n",
    "grid_search.fit(X_val, y_val)\n",
    "\n",
    "rf_best_params = grid_search.best_params_\n",
    "rf_best_score = grid_search.best_score_\n",
    "rf_best_estimator = grid_search.best_estimator_\n",
    "print(\"Best Hyperparameters:\")\n",
    "print(rf_best_params)\n",
    "print(\"Best score:\")\n",
    "print(rf_best_score)"
   ]
  },
  {
   "cell_type": "markdown",
   "metadata": {},
   "source": [
    "## Train-Test"
   ]
  },
  {
   "cell_type": "code",
   "execution_count": 32,
   "metadata": {},
   "outputs": [
    {
     "name": "stdout",
     "output_type": "stream",
     "text": [
      "0.8208955223880597\n",
      "0.7\n",
      "0.7789855072463767\n"
     ]
    }
   ],
   "source": [
    "model = rf_best_estimator\n",
    "model.fit(X_train, y_train)\n",
    "y_pred = model.predict(X_test)\n",
    "\n",
    "accuracy = accuracy_score(y_test, y_pred)\n",
    "f1 = f1_score(y_test, y_pred)\n",
    "auc = roc_auc_score(y_test, y_pred)\n",
    "\n",
    "print(accuracy)\n",
    "print(f1)\n",
    "print(auc)\n",
    "\n",
    "models_results[\"RFC\"] = [accuracy, f1, auc]"
   ]
  },
  {
   "cell_type": "markdown",
   "metadata": {},
   "source": [
    "# Gaussian Naive Bayes"
   ]
  },
  {
   "cell_type": "code",
   "execution_count": 33,
   "metadata": {},
   "outputs": [
    {
     "name": "stdout",
     "output_type": "stream",
     "text": [
      "0.8059701492537313\n",
      "0.6666666666666666\n",
      "0.755175983436853\n"
     ]
    }
   ],
   "source": [
    "model = GaussianNB()\n",
    "model.fit(X_train, y_train)\n",
    "y_pred = model.predict(X_test)\n",
    "accuracy = accuracy_score(y_test, y_pred)\n",
    "f1 = f1_score(y_test, y_pred)\n",
    "auc = roc_auc_score(y_test, y_pred)\n",
    "\n",
    "print(accuracy)\n",
    "print(f1)\n",
    "print(auc)\n",
    "\n",
    "models_results[\"GNB\"] = [accuracy, f1, auc]"
   ]
  },
  {
   "cell_type": "markdown",
   "metadata": {},
   "source": [
    "# KNN"
   ]
  },
  {
   "cell_type": "markdown",
   "metadata": {},
   "source": [
    "## Validation"
   ]
  },
  {
   "cell_type": "code",
   "execution_count": 34,
   "metadata": {},
   "outputs": [
    {
     "name": "stdout",
     "output_type": "stream",
     "text": [
      "Best Hyperparameters:\n",
      "{'algorithm': 'auto', 'n_neighbors': 17, 'p': 1, 'weights': 'uniform'}\n",
      "Best score:\n",
      "0.8026315789473684\n"
     ]
    }
   ],
   "source": [
    "params = {\n",
    "    'n_neighbors': np.arange(1, 42, 2),           # Number of neighbors to consider\n",
    "    'weights': ['uniform', 'distance'],        # Weight function used in prediction\n",
    "    'algorithm': ['auto', 'ball_tree', 'kd_tree', 'brute'],\n",
    "    'p': [1, 2]                                # Power parameter for the Minkowski distance\n",
    "}\n",
    "model = KNeighborsClassifier()\n",
    "kf = KFold(n_splits=4, shuffle=True, random_state=23)\n",
    "grid_search = GridSearchCV(estimator=model, param_grid=params, cv=kf)\n",
    "grid_search.fit(X_val, y_val)\n",
    "\n",
    "knn_best_params = grid_search.best_params_\n",
    "knn_best_score = grid_search.best_score_\n",
    "knn_best_estimator = grid_search.best_estimator_\n",
    "print(\"Best Hyperparameters:\")\n",
    "print(knn_best_params)\n",
    "print(\"Best score:\")\n",
    "print(knn_best_score)"
   ]
  },
  {
   "cell_type": "markdown",
   "metadata": {},
   "source": [
    "## Train-Test"
   ]
  },
  {
   "cell_type": "code",
   "execution_count": 35,
   "metadata": {},
   "outputs": [
    {
     "name": "stdout",
     "output_type": "stream",
     "text": [
      "0.7910447761194029\n",
      "0.6216216216216217\n",
      "0.724896480331263\n"
     ]
    }
   ],
   "source": [
    "model = knn_best_estimator\n",
    "model.fit(X_train, y_train)\n",
    "y_pred = model.predict(X_test)\n",
    "\n",
    "accuracy = accuracy_score(y_test, y_pred)\n",
    "f1 = f1_score(y_test, y_pred)\n",
    "auc = roc_auc_score(y_test, y_pred)\n",
    "\n",
    "print(accuracy)\n",
    "print(f1)\n",
    "print(auc)\n",
    "\n",
    "models_results[\"KNN\"] = [accuracy, f1, auc]"
   ]
  },
  {
   "cell_type": "markdown",
   "metadata": {},
   "source": [
    "# MLP"
   ]
  },
  {
   "cell_type": "markdown",
   "metadata": {},
   "source": [
    "## Validation"
   ]
  },
  {
   "cell_type": "code",
   "execution_count": 36,
   "metadata": {},
   "outputs": [
    {
     "name": "stdout",
     "output_type": "stream",
     "text": [
      "Best Hyperparameters:\n",
      "{'activation': 'logistic', 'hidden_layer_sizes': (20,), 'learning_rate_init': 0.005, 'max_iter': 500}\n",
      "Best score:\n",
      "0.75\n"
     ]
    }
   ],
   "source": [
    "import warnings\n",
    "from sklearn.exceptions import ConvergenceWarning\n",
    "\n",
    "warnings.filterwarnings(\"ignore\", category=ConvergenceWarning)\n",
    "\n",
    "params = {\n",
    "    'hidden_layer_sizes': [(20,), (35,), (50,), (20, 20)],   # Number of units in the hidden layers\n",
    "    'activation': ['relu', 'tanh', 'logistic'],                    # Activation function for the hidden layers                              # L2 regularization parameter\n",
    "    'learning_rate_init': [0.005, 0.01, 0.05],                      # Initial learning rate\n",
    "    'max_iter': [500]\n",
    "}\n",
    "model = MLPClassifier()\n",
    "kf = KFold(n_splits=4, shuffle=True, random_state=23)\n",
    "grid_search = GridSearchCV(estimator=model, param_grid=params, cv=kf)\n",
    "grid_search.fit(X_val, y_val)\n",
    "\n",
    "mlp_best_params = grid_search.best_params_\n",
    "mlp_best_score = grid_search.best_score_\n",
    "mlp_best_estimator = grid_search.best_estimator_\n",
    "print(\"Best Hyperparameters:\")\n",
    "print(mlp_best_params)\n",
    "print(\"Best score:\")\n",
    "print(mlp_best_score)"
   ]
  },
  {
   "cell_type": "markdown",
   "metadata": {},
   "source": [
    "## Train-Test"
   ]
  },
  {
   "cell_type": "code",
   "execution_count": 37,
   "metadata": {},
   "outputs": [
    {
     "name": "stdout",
     "output_type": "stream",
     "text": [
      "0.8059701492537313\n",
      "0.6388888888888888\n",
      "0.7357660455486543\n"
     ]
    }
   ],
   "source": [
    "model = mlp_best_estimator\n",
    "model.fit(X_train, y_train)\n",
    "y_pred = model.predict(X_test)\n",
    "\n",
    "accuracy = accuracy_score(y_test, y_pred)\n",
    "f1 = f1_score(y_test, y_pred)\n",
    "auc = roc_auc_score(y_test, y_pred)\n",
    "\n",
    "print(accuracy)\n",
    "print(f1)\n",
    "print(auc)\n",
    "\n",
    "models_results[\"MLP\"] = [accuracy, f1, auc]"
   ]
  },
  {
   "cell_type": "code",
   "execution_count": 38,
   "metadata": {},
   "outputs": [
    {
     "name": "stdout",
     "output_type": "stream",
     "text": [
      "               RFC       GNB       KNN       MLP\n",
      "accuracy  0.820896  0.805970  0.791045  0.805970\n",
      "f1        0.700000  0.666667  0.621622  0.638889\n",
      "auc       0.778986  0.755176  0.724896  0.735766\n"
     ]
    }
   ],
   "source": [
    "models_results.index = [\"accuracy\", \"f1\", \"auc\"]\n",
    "print(models_results)\n",
    "models_results.to_csv(\"final_data/models_results.csv\", index = False)"
   ]
  },
  {
   "cell_type": "code",
   "execution_count": null,
   "metadata": {},
   "outputs": [],
   "source": []
  }
 ],
 "metadata": {
  "kernelspec": {
   "display_name": "Python 3 (ipykernel)",
   "language": "python",
   "name": "python3"
  },
  "language_info": {
   "codemirror_mode": {
    "name": "ipython",
    "version": 3
   },
   "file_extension": ".py",
   "mimetype": "text/x-python",
   "name": "python",
   "nbconvert_exporter": "python",
   "pygments_lexer": "ipython3",
   "version": "3.11.4"
  }
 },
 "nbformat": 4,
 "nbformat_minor": 4
}
