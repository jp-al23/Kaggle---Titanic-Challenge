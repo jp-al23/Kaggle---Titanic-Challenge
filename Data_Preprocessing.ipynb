{
 "cells": [
  {
   "cell_type": "code",
   "execution_count": 1,
   "metadata": {},
   "outputs": [
    {
     "name": "stdout",
     "output_type": "stream",
     "text": [
      "Train size: 891\n",
      "Test size: 418\n",
      "\n",
      "Index(['PassengerId', 'Pclass', 'Name', 'Sex', 'Age', 'SibSp', 'Parch',\n",
      "       'Ticket', 'Fare'],\n",
      "      dtype='object')\n"
     ]
    }
   ],
   "source": [
    "import pandas as pd\n",
    "import numpy as np\n",
    "import matplotlib.pyplot as plt\n",
    "import seaborn as sns\n",
    "\n",
    "df_train = pd.read_csv(\"data/train.csv\")\n",
    "\n",
    "y_train = df_train[\"Survived\"]\n",
    "X_train = df_train.drop([\"Survived\", \"Cabin\", \"Embarked\"], axis = 1)\n",
    "y_test = pd.read_csv(\"data/gender_submission.csv\")[\"Survived\"]\n",
    "X_test = pd.read_csv(\"data/test.csv\").drop([\"Cabin\", \"Embarked\"], axis = 1)\n",
    "\n",
    "X = pd.concat([X_train, X_test])\n",
    "y = pd.concat([y_train, y_test], ignore_index = True)\n",
    "\n",
    "df = X.copy()\n",
    "df[\"Survived\"] = y\n",
    "\n",
    "# print(X_train.shape[0], y_train.size, X_test.shape[0], y_test.size)\n",
    "print(\"Train size: {}\\nTest size: {}\\n\".format(X_train.shape[0], X_test.shape[0]) ) \n",
    "\n",
    "print(X_train.columns)"
   ]
  },
  {
   "cell_type": "code",
   "execution_count": 23,
   "metadata": {},
   "outputs": [
    {
     "name": "stdout",
     "output_type": "stream",
     "text": [
      "             Survived_Mean  Not_Survived_Mean  Survived_Std  Not_Survived_Std\n",
      "PassengerId     659.144554         652.396766    380.892025        376.419364\n",
      "Pclass            2.067327           2.437811      0.863399          0.789005\n",
      "Age              28.930622          30.513806     14.484727         14.342518\n",
      "SibSp             0.445545           0.532338      0.713743          1.201990\n",
      "Parch             0.390099           0.381841      0.715684          0.948076\n",
      "Fare             43.928036          26.608753     63.737427         41.193629\n"
     ]
    }
   ],
   "source": [
    "survived = df[ df[\"Survived\"] == 1]\n",
    "n_survived = survived.shape[0]\n",
    "not_survived = df[ df[\"Survived\"] == 0]\n",
    "n_not_survived = not_survived.shape[0]\n",
    "\n",
    "survived_stats = survived.describe()\n",
    "not_survived_stats = not_survived.describe()\n",
    "\n",
    "comparation_stats = pd.DataFrame()\n",
    "comparation_stats[\"Survived_Mean\"] = survived_stats.loc[\"mean\"]\n",
    "comparation_stats[\"Not_Survived_Mean\"] = not_survived_stats.loc[\"mean\"]\n",
    "comparation_stats[\"Survived_Std\"] = survived_stats.loc[\"std\"]\n",
    "comparation_stats[\"Not_Survived_Std\"] = not_survived_stats.loc[\"std\"]\n",
    "comparation_stats.drop(\"Survived\", inplace = True, axis = 0)\n",
    "print(comparation_stats)\n"
   ]
  },
  {
   "cell_type": "markdown",
   "metadata": {},
   "source": [
    "# Analysing Age feature"
   ]
  },
  {
   "cell_type": "code",
   "execution_count": 27,
   "metadata": {},
   "outputs": [
    {
     "name": "stdout",
     "output_type": "stream",
     "text": [
      "Quantity of estimated ages: 33\n",
      "Quantity of unique ages: 99\n",
      "\n",
      "           Survived  Not_Survived\n",
      "Age                              \n",
      "[0, 10)    0.087129      0.047264\n",
      "[10, 20)   0.110891      0.108209\n",
      "[20, 30)   0.257426      0.266169\n",
      "[30, 40)   0.192079      0.167910\n",
      "[40, 50)   0.100990      0.104478\n",
      "[50, 60)   0.055446      0.052239\n",
      "[60, 70)   0.021782      0.026119\n",
      "[70, 80)   0.000000      0.008706\n",
      "[80, 90)   0.001980      0.000000\n",
      "[90, 100)  0.000000      0.000000\n"
     ]
    }
   ],
   "source": [
    "age_series = X[\"Age\"]\n",
    "age_series.describe()\n",
    "\n",
    "ascending_ages = age_series.sort_values(ascending = True)\n",
    "unique_ages = pd.unique(age_series)\n",
    "estimated_ages = age_series[age_series%1 == 0.5]\n",
    "n_estimated = estimated_ages.size\n",
    "n_unique = unique_ages.size\n",
    "print(\"Quantity of estimated ages: {}\\nQuantity of unique ages: {}\".format(n_estimated, n_unique) )\n",
    "\n",
    "age_and_survived = df[[\"Age\", \"Survived\"]]\n",
    "age_survived = age_and_survived[ age_and_survived[\"Survived\"]==1 ][\"Age\"]\n",
    "age_not_survived = age_and_survived[ age_and_survived[\"Survived\"]==0 ][\"Age\"]\n",
    "\n",
    "intervals = np.arange(0,101,10)\n",
    "bins_survived = pd.cut(age_survived, intervals, right = False)\n",
    "frequency_survived = bins_survived.value_counts(sort = False) / n_survived\n",
    "\n",
    "bins_not_survived = pd.cut(age_not_survived, intervals, right = False)\n",
    "frequency_not_survived = bins_not_survived.value_counts(sort = False) / n_not_survived\n",
    "\n",
    "comparation_ages = pd.DataFrame()\n",
    "comparation_ages[\"Survived\"] = frequency_survived\n",
    "comparation_ages[\"Not_Survived\"] = frequency_not_survived\n",
    "\n",
    "print()\n",
    "print(comparation_ages)"
   ]
  },
  {
   "cell_type": "markdown",
   "metadata": {},
   "source": [
    "# Feature selection"
   ]
  },
  {
   "cell_type": "code",
   "execution_count": null,
   "metadata": {},
   "outputs": [],
   "source": [
    "from sklearn.feature_selection import (\n",
    "SelectKBest, \n",
    "f_classif)\n"
   ]
  }
 ],
 "metadata": {
  "kernelspec": {
   "display_name": "Python 3 (ipykernel)",
   "language": "python",
   "name": "python3"
  },
  "language_info": {
   "codemirror_mode": {
    "name": "ipython",
    "version": 3
   },
   "file_extension": ".py",
   "mimetype": "text/x-python",
   "name": "python",
   "nbconvert_exporter": "python",
   "pygments_lexer": "ipython3",
   "version": "3.11.4"
  }
 },
 "nbformat": 4,
 "nbformat_minor": 4
}
